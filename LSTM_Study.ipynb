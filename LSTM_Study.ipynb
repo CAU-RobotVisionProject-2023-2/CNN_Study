{
 "cells": [
  {
   "cell_type": "code",
   "execution_count": 24,
   "id": "fa1f751e",
   "metadata": {},
   "outputs": [],
   "source": [
    "import pickle\n",
    "import pandas as pd\n",
    "import numpy as np\n",
    "import matplotlib.pyplot as plt\n",
    "import re\n",
    "import urllib.request\n",
    "from konlpy.tag import Mecab\n",
    "from tqdm import tqdm\n",
    "from sklearn.model_selection import train_test_split\n",
    "from collections import Counter"
   ]
  },
  {
   "cell_type": "code",
   "execution_count": 25,
   "id": "d38b1c43",
   "metadata": {},
   "outputs": [],
   "source": [
    "urllib.request.urlretrieve(\"https://raw.githubusercontent.com/e9t/nsmc/master/ratings_train.txt\", filename=\"ratings_train.txt\")\n",
    "urllib.request.urlretrieve(\"https://raw.githubusercontent.com/e9t/nsmc/master/ratings_test.txt\", filename=\"ratings_test.txt\")\n",
    "train_data = pd.read_table('ratings_train.txt')\n",
    "test_data = pd.read_table('ratings_test.txt')"
   ]
  },
  {
   "cell_type": "code",
   "execution_count": 26,
   "id": "cfa1edc8",
   "metadata": {},
   "outputs": [
    {
     "name": "stdout",
     "output_type": "stream",
     "text": [
      "Num of Review(Train): 150000\n",
      "Num of Review(Test): 50000\n",
      "Column:  Index(['id', 'document', 'label'], dtype='object')\n",
      "146182 2\n"
     ]
    }
   ],
   "source": [
    "print('Num of Review(Train):', len(train_data))\n",
    "print('Num of Review(Test):', len(test_data))\n",
    "print(\"Column: \", train_data.columns)\n",
    "print(train_data['document'].nunique(), train_data['label'].nunique())"
   ]
  },
  {
   "cell_type": "code",
   "execution_count": 27,
   "id": "315b12be",
   "metadata": {},
   "outputs": [],
   "source": [
    "def dropNan(df):\n",
    "    df.drop_duplicates(subset=['document'], inplace=True)\n",
    "    df['document'] = df['document'].str.replace(\"[^ㄱ-ㅎㅏ-ㅣ가-힣 ]\",\"\", regex=True)\n",
    "    df['document'] = df['document'].str.replace('^ +', \"\", regex=True)\n",
    "    df['document'].replace('', np.nan, inplace=True)\n",
    "    df.dropna(how = 'any', inplace=True)"
   ]
  },
  {
   "cell_type": "code",
   "execution_count": 5,
   "id": "1eef9866",
   "metadata": {},
   "outputs": [],
   "source": [
    "dropNan(train_data)\n",
    "dropNan(test_data)"
   ]
  },
  {
   "cell_type": "code",
   "execution_count": 6,
   "id": "1972953f",
   "metadata": {},
   "outputs": [],
   "source": [
    "mecab = Mecab()\n",
    "stopwords = ['도', '는', '다', '의', '가', '이', '은', '한', '에', '하', '고', '을', '를', '인', '듯', '과', '와', '네', '들', '듯', '지', '임', '게']"
   ]
  },
  {
   "cell_type": "code",
   "execution_count": 7,
   "id": "ef8ecb24",
   "metadata": {},
   "outputs": [
    {
     "name": "stderr",
     "output_type": "stream",
     "text": [
      "100%|████████████████████████████████| 145393/145393 [00:05<00:00, 26682.03it/s]\n"
     ]
    }
   ],
   "source": [
    "X_train = []\n",
    "for sentence in tqdm(train_data['document']):\n",
    "    tokenized_sentence = mecab.morphs(sentence)\n",
    "    stopwords_removed_sentence = [\n",
    "        word for word in tokenized_sentence \n",
    "        if not word in stopwords]\n",
    "    X_train.append(stopwords_removed_sentence)\n",
    "    "
   ]
  },
  {
   "cell_type": "code",
   "execution_count": 8,
   "id": "655a0487",
   "metadata": {},
   "outputs": [
    {
     "name": "stderr",
     "output_type": "stream",
     "text": [
      "100%|██████████████████████████████████| 48852/48852 [00:01<00:00, 27493.13it/s]\n"
     ]
    }
   ],
   "source": [
    "X_test = []\n",
    "for sentence in tqdm(test_data['document']):\n",
    "    tokenized_sentence = mecab.morphs(sentence)\n",
    "    stopwords_removed_sentence = [\n",
    "        word for word in tokenized_sentence \n",
    "        if not word in stopwords]\n",
    "    X_test.append(stopwords_removed_sentence)"
   ]
  },
  {
   "cell_type": "code",
   "execution_count": 9,
   "id": "da07d129",
   "metadata": {},
   "outputs": [],
   "source": [
    "y_train = np.array(train_data['label'])\n",
    "y_test = np.array(test_data['label'])\n",
    "\n",
    "X_train, X_valid, y_train, y_valid = train_test_split(X_train, y_train, test_size=0.2, random_state=0, stratify=y_train)"
   ]
  },
  {
   "cell_type": "code",
   "execution_count": 28,
   "id": "a3fbeb5b",
   "metadata": {},
   "outputs": [
    {
     "name": "stdout",
     "output_type": "stream",
     "text": [
      "False\n"
     ]
    }
   ],
   "source": [
    "import platform\n",
    "if platform.system() == 'Windows':\n",
    "    is_mac = False\n",
    "else:\n",
    "    is_mac = True\n",
    "print(is_mac)"
   ]
  },
  {
   "cell_type": "code",
   "execution_count": 29,
   "id": "472d619f",
   "metadata": {},
   "outputs": [],
   "source": [
    "if is_mac:\n",
    "    with open('x_data.pkl', 'wb') as f:\n",
    "        pickle.dump((X_train, X_valid, X_test), f)\n",
    "    with open('y_data.pkl', 'wb') as f:\n",
    "        pickle.dump((y_train, y_valid, y_test), f)\n",
    "else:\n",
    "    with open('x_data.pkl', 'rb') as f:\n",
    "        (X_train, X_valid, X_test) = pickle.load(f)\n",
    "    with open('y_data.pkl', 'rb') as f:\n",
    "        (y_train, y_valid, y_test) = pickle.load(f)"
   ]
  },
  {
   "cell_type": "code",
   "execution_count": 30,
   "id": "f5bca92a",
   "metadata": {},
   "outputs": [
    {
     "name": "stdout",
     "output_type": "stream",
     "text": [
      "--------학습 데이터의 비율-----------\n",
      "부정 리뷰 = 50.238%\n",
      "긍정 리뷰 = 49.762%\n",
      "--------검증 데이터의 비율-----------\n",
      "부정 리뷰 = 50.239%\n",
      "긍정 리뷰 = 49.761%\n",
      "--------테스트 데이터의 비율-----------\n",
      "부정 리뷰 = 49.808%\n",
      "긍정 리뷰 = 50.192%\n"
     ]
    }
   ],
   "source": [
    "print('--------학습 데이터의 비율-----------')\n",
    "print(f'부정 리뷰 = {round(np.sum(y_train==0)/len(y_train) * 100,3)}%')\n",
    "print(f'긍정 리뷰 = {round(np.count_nonzero(y_train)/len(y_train) * 100,3)}%')\n",
    "print('--------검증 데이터의 비율-----------')\n",
    "print(f'부정 리뷰 = {round(np.sum(y_valid==0)/len(y_valid) * 100,3)}%')\n",
    "print(f'긍정 리뷰 = {round(np.count_nonzero(y_valid)/len(y_valid) * 100,3)}%')\n",
    "print('--------테스트 데이터의 비율-----------')\n",
    "print(f'부정 리뷰 = {round(np.sum(y_test==0)/len(y_test) * 100,3)}%')\n",
    "print(f'긍정 리뷰 = {round(np.count_nonzero(y_test)/len(y_test) * 100,3)}%')"
   ]
  },
  {
   "cell_type": "code",
   "execution_count": 31,
   "id": "16acc8c2",
   "metadata": {},
   "outputs": [
    {
     "name": "stdout",
     "output_type": "stream",
     "text": [
      "total Number of Words:  45216\n"
     ]
    }
   ],
   "source": [
    "word_list = []\n",
    "for sent in X_train:\n",
    "    for word in sent:\n",
    "        word_list.append(word)\n",
    "word_counts = Counter(word_list)\n",
    "print('total Number of Words: ', len(word_counts))"
   ]
  },
  {
   "cell_type": "code",
   "execution_count": 32,
   "id": "cb80b420",
   "metadata": {},
   "outputs": [],
   "source": [
    "vocab = sorted(word_counts, key=word_counts.get, reverse=True)"
   ]
  },
  {
   "cell_type": "code",
   "execution_count": 33,
   "id": "b9c0a8bd",
   "metadata": {},
   "outputs": [
    {
     "name": "stdout",
     "output_type": "stream",
     "text": [
      "단어 집합(vocabulary)의 크기 : 45216\n",
      "등장 빈도가 2번 이하인 희귀 단어의 수: 26030\n",
      "단어 집합에서 희귀 단어의 비율: 57.568117480537865\n",
      "전체 등장 빈도에서 희귀 단어 등장 빈도 비율: 2.27324859294402\n",
      "단어 집합의 크기 : 19186\n",
      "패딩 토큰과 UNK 토큰을 고려한 단어 집합의 크기 : 19188\n"
     ]
    }
   ],
   "source": [
    "threshold = 3\n",
    "total_cnt = len(word_counts)\n",
    "rare_cnt = 0\n",
    "total_freq = 0\n",
    "rare_freq = 0\n",
    "\n",
    "for key, value in word_counts.items():\n",
    "    total_freq = total_freq + value\n",
    "    if value < threshold :\n",
    "        rare_cnt = rare_cnt + 1\n",
    "        rare_freq = rare_freq + value\n",
    "        \n",
    "print('단어 집합(vocabulary)의 크기 :',total_cnt)\n",
    "print('등장 빈도가 %s번 이하인 희귀 단어의 수: %s'%(threshold - 1, rare_cnt))\n",
    "print(\"단어 집합에서 희귀 단어의 비율:\", (rare_cnt / total_cnt)*100)\n",
    "print(\"전체 등장 빈도에서 희귀 단어 등장 빈도 비율:\", (rare_freq / total_freq)*100)\n",
    "\n",
    "vocab_size = total_cnt - rare_cnt\n",
    "vocab = vocab[:vocab_size]\n",
    "print('단어 집합의 크기 :', len(vocab))\n",
    "word_to_index = {}\n",
    "word_to_index['<PAD>'] = 0\n",
    "word_to_index['<UNK>'] = 1\n",
    "\n",
    "for index, word in enumerate(vocab) :\n",
    "    word_to_index[word] = index + 2\n",
    "\n",
    "vocab_size = len(word_to_index)\n",
    "print('패딩 토큰과 UNK 토큰을 고려한 단어 집합의 크기 :', vocab_size)"
   ]
  },
  {
   "cell_type": "code",
   "execution_count": 34,
   "id": "967f71c9",
   "metadata": {},
   "outputs": [],
   "source": [
    "def texts_to_sequences(tokenized_X_data, word_to_index):\n",
    "    encoded_X_data = []\n",
    "    for sent in tokenized_X_data:\n",
    "        index_sequences = []\n",
    "        for word in sent:\n",
    "            try:\n",
    "                index_sequences.append(word_to_index[word])\n",
    "            except KeyError:\n",
    "                index_sequences.append(word_to_index['<UNK>'])\n",
    "        encoded_X_data.append(index_sequences)\n",
    "    return encoded_X_data"
   ]
  },
  {
   "cell_type": "code",
   "execution_count": 35,
   "id": "221f4c95",
   "metadata": {},
   "outputs": [],
   "source": [
    "encoded_X_train = texts_to_sequences(X_train, word_to_index)\n",
    "encoded_X_valid = texts_to_sequences(X_valid, word_to_index)\n",
    "encoded_X_test = texts_to_sequences(X_test, word_to_index)"
   ]
  },
  {
   "cell_type": "code",
   "execution_count": 36,
   "id": "9d1e3db0",
   "metadata": {},
   "outputs": [],
   "source": [
    "index_to_word = {}\n",
    "for key, value in word_to_index.items():\n",
    "    index_to_word[value] = key"
   ]
  },
  {
   "cell_type": "code",
   "execution_count": 37,
   "id": "451a6f25",
   "metadata": {},
   "outputs": [
    {
     "name": "stdout",
     "output_type": "stream",
     "text": [
      "기존의 첫번째 샘플 : ['이야', '어쩜', '이렇게', '나', '지루', '할', '수']\n",
      "복원된 첫번째 샘플 : ['이야', '어쩜', '이렇게', '나', '지루', '할', '수']\n"
     ]
    }
   ],
   "source": [
    "decoded_sample = [index_to_word[word] for word in encoded_X_train[0]]\n",
    "print('기존의 첫번째 샘플 :', X_train[0])\n",
    "print('복원된 첫번째 샘플 :', decoded_sample)"
   ]
  },
  {
   "cell_type": "code",
   "execution_count": 38,
   "id": "890ec1de",
   "metadata": {},
   "outputs": [],
   "source": [
    "def below_threshold_len(max_len, nested_list):\n",
    "    count = 0\n",
    "    for sentence in nested_list:\n",
    "        if(len(sentence) <= max_len):\n",
    "            count = count + 1\n",
    "    print('전체 샘플 중 길이가 %s 이하인 샘플의 비율: %s'%(max_len, (count / len(nested_list))*100))"
   ]
  },
  {
   "cell_type": "code",
   "execution_count": 39,
   "id": "e01c1524",
   "metadata": {},
   "outputs": [
    {
     "name": "stdout",
     "output_type": "stream",
     "text": [
      "전체 샘플 중 길이가 30 이하인 샘플의 비율: 92.50477156662139\n"
     ]
    }
   ],
   "source": [
    "max_len = 30\n",
    "below_threshold_len(max_len, X_train)"
   ]
  },
  {
   "cell_type": "code",
   "execution_count": 40,
   "id": "c7ffda88",
   "metadata": {},
   "outputs": [
    {
     "name": "stdout",
     "output_type": "stream",
     "text": [
      "훈련 데이터의 크기 : (116314, 30)\n",
      "검증 데이터의 크기 : (29079, 30)\n",
      "테스트 데이터의 크기 : (48852, 30)\n",
      "첫번째 샘플의 길이 : 30\n",
      "첫번째 샘플 : [ 945 1867  128    7   80   48   34    0    0    0    0    0    0    0\n",
      "    0    0    0    0    0    0    0    0    0    0    0    0    0    0\n",
      "    0    0]\n"
     ]
    }
   ],
   "source": [
    "def pad_sequences(sentences, max_len):\n",
    "    features = np.zeros((len(sentences), max_len), dtype=int)\n",
    "    for index, sentence in enumerate(sentences):\n",
    "        if len(sentence) != 0:\n",
    "            features[index, :len(sentence)] = np.array(sentence)[:max_len]\n",
    "    return features\n",
    "\n",
    "padded_X_train = pad_sequences(encoded_X_train, max_len=max_len)\n",
    "padded_X_valid = pad_sequences(encoded_X_valid, max_len=max_len)\n",
    "padded_X_test = pad_sequences(encoded_X_test, max_len=max_len)\n",
    "\n",
    "print('훈련 데이터의 크기 :', padded_X_train.shape)\n",
    "print('검증 데이터의 크기 :', padded_X_valid.shape)\n",
    "print('테스트 데이터의 크기 :', padded_X_test.shape)\n",
    "\n",
    "print('첫번째 샘플의 길이 :', len(padded_X_train[0]))\n",
    "print('첫번째 샘플 :', padded_X_train[0])"
   ]
  },
  {
   "cell_type": "code",
   "execution_count": 41,
   "id": "b2675cb5",
   "metadata": {},
   "outputs": [],
   "source": [
    "import torch\n",
    "import torch.nn as nn\n",
    "import torch.nn.functional as F"
   ]
  },
  {
   "cell_type": "code",
   "execution_count": 42,
   "id": "8e1fb29c",
   "metadata": {},
   "outputs": [],
   "source": [
    "device = torch.device(\"cuda\")"
   ]
  },
  {
   "cell_type": "code",
   "execution_count": 77,
   "id": "563a1b26",
   "metadata": {},
   "outputs": [],
   "source": [
    "class TextClassifier(nn.Module):\n",
    "    def __init__(self, vocab_size, embedding_dim, hidden_dim, output_dim):\n",
    "        super(TextClassifier, self).__init__()\n",
    "        self.embedding = nn.Embedding(vocab_size, embedding_dim)\n",
    "        self.lstm = nn.LSTM(embedding_dim, hidden_dim, batch_first=True)\n",
    "        self.fc = nn.Linear(hidden_dim, output_dim)\n",
    "        \n",
    "    def forward(self, x):\n",
    "        embedded = self.embedding(x)\n",
    "        \n",
    "        lstm_out, (hidden, cell) = self.lstm(embedded)\n",
    "        \n",
    "        last_hidden = hidden.squeeze(0)\n",
    "        \n",
    "        logits = self.fc(last_hidden)\n",
    "        \n",
    "        return logits"
   ]
  },
  {
   "cell_type": "code",
   "execution_count": 177,
   "id": "440921b2",
   "metadata": {},
   "outputs": [],
   "source": [
    "train_label_tensor = torch.tensor(np.array(y_train))\n",
    "valid_label_tensor = torch.tensor(np.array(y_valid))\n",
    "test_label_tensor = torch.tensor(np.array(y_test))\n",
    "\n",
    "encoded_train = torch.tensor(padded_X_train).to(torch.int64)\n",
    "train_dataset = torch.utils.data.TensorDataset(encoded_train, train_label_tensor)\n",
    "train_dataloader = torch.utils.data.DataLoader(train_dataset, shuffle=True, batch_size=32)\n",
    "\n",
    "encoded_test = torch.tensor(padded_X_test).to(torch.int64)\n",
    "test_dataset = torch.utils.data.TensorDataset(encoded_test, test_label_tensor)\n",
    "test_dataloader = torch.utils.data.DataLoader(test_dataset, shuffle=True, batch_size=1)\n",
    "\n",
    "encoded_valid = torch.tensor(padded_X_valid).to(torch.int64)\n",
    "valid_dataset = torch.utils.data.TensorDataset(encoded_valid, valid_label_tensor)\n",
    "valid_dataloader = torch.utils.data.DataLoader(valid_dataset, shuffle=True, batch_size=1)\n",
    "\n",
    "train_loaderset = [\n",
    "    torch.utils.data.DataLoader(train_dataset, shuffle=True, batch_size=8),\n",
    "    torch.utils.data.DataLoader(train_dataset, shuffle=True, batch_size=16),\n",
    "    torch.utils.data.DataLoader(train_dataset, shuffle=True, batch_size=32),\n",
    "    torch.utils.data.DataLoader(train_dataset, shuffle=True, batch_size=64),\n",
    "    torch.utils.data.DataLoader(train_dataset, shuffle=True, batch_size=128)\n",
    "]\n"
   ]
  },
  {
   "cell_type": "code",
   "execution_count": 184,
   "id": "3dd4cb13",
   "metadata": {},
   "outputs": [],
   "source": [
    "embedding_dim = 100\n",
    "hidden_dim = 128\n",
    "output_dim = 2\n",
    "learning_rate = 1e-3\n",
    "model = TextClassifier(vocab_size, embedding_dim, hidden_dim, output_dim).to(device)"
   ]
  },
  {
   "cell_type": "code",
   "execution_count": 185,
   "id": "2e01fb6f",
   "metadata": {},
   "outputs": [],
   "source": [
    "criterion = nn.CrossEntropyLoss()\n",
    "optimizer = torch.optim.Adam(model.parameters(), lr=learning_rate)\n"
   ]
  },
  {
   "cell_type": "code",
   "execution_count": 186,
   "id": "ceb359ed",
   "metadata": {},
   "outputs": [],
   "source": [
    "def calculate_accuracy(logits, labels):\n",
    "    # _, predicted = torch.max(logits, 1)\n",
    "    predicted = torch.argmax(logits, dim=1)\n",
    "    correct = (predicted == labels).sum().item()\n",
    "    total = labels.size(0)\n",
    "    accuracy = correct / total\n",
    "    return accuracy\n"
   ]
  },
  {
   "cell_type": "code",
   "execution_count": 187,
   "id": "94772e58",
   "metadata": {},
   "outputs": [],
   "source": [
    "def evaluate(model, valid_dataloader, criterion, device):\n",
    "    val_loss = 0\n",
    "    val_correct = 0\n",
    "    val_total = 0\n",
    "\n",
    "    model.eval()\n",
    "    with torch.no_grad():\n",
    "        # 데이터로더로부터 배치 크기만큼의 데이터를 연속으로 로드\n",
    "        progress = tqdm(valid_dataloader)\n",
    "    \n",
    "        for i, (batch_X, batch_y) in enumerate(progress, start=1):\n",
    "            batch_X, batch_y = batch_X.to(device), batch_y.to(device)\n",
    "\n",
    "            # 모델의 예측값\n",
    "            logits = model(batch_X)\n",
    "\n",
    "            # 손실을 계산\n",
    "            loss = criterion(logits, batch_y)\n",
    "\n",
    "            # 정확도와 손실을 계산함\n",
    "            val_loss += loss.item()\n",
    "            val_correct += calculate_accuracy(logits, batch_y) * batch_y.size(0)\n",
    "            val_total += batch_y.size(0)\n",
    "\n",
    "    val_accuracy = val_correct / val_total\n",
    "    val_loss /= len(valid_dataloader)\n",
    "\n",
    "    return val_loss, val_accuracy"
   ]
  },
  {
   "cell_type": "code",
   "execution_count": 188,
   "id": "f844d347",
   "metadata": {},
   "outputs": [],
   "source": [
    "train_loaderset[0].batch_size\n",
    "train_loaderset.reverse()"
   ]
  },
  {
   "cell_type": "code",
   "execution_count": 189,
   "id": "51031495",
   "metadata": {
    "scrolled": true
   },
   "outputs": [
    {
     "name": "stdout",
     "output_type": "stream",
     "text": [
      "batch_size:  8\n"
     ]
    },
    {
     "name": "stderr",
     "output_type": "stream",
     "text": [
      "100%|███████████████████████████████████████████████████████████████████████████| 14540/14540 [00:29<00:00, 490.71it/s]\n",
      "100%|███████████████████████████████████████████████████████████████████████████████| 114/114 [00:00<00:00, 361.88it/s]\n"
     ]
    },
    {
     "name": "stdout",
     "output_type": "stream",
     "text": [
      "Epoch 1/10:\n",
      "Train Loss: 0.4464, Train Accuracy: 0.7728\n",
      "Validation Loss: 0.3590, Validation Accuracy: 0.8361\n",
      "Validation loss improved from inf to 0.3590. 체크포인트를 저장합니다.\n"
     ]
    },
    {
     "name": "stderr",
     "output_type": "stream",
     "text": [
      "100%|███████████████████████████████████████████████████████████████████████████| 14540/14540 [00:29<00:00, 494.18it/s]\n",
      "100%|███████████████████████████████████████████████████████████████████████████████| 114/114 [00:00<00:00, 376.22it/s]\n"
     ]
    },
    {
     "name": "stdout",
     "output_type": "stream",
     "text": [
      "Epoch 2/10:\n",
      "Train Loss: 0.3113, Train Accuracy: 0.8669\n",
      "Validation Loss: 0.3371, Validation Accuracy: 0.8489\n",
      "Validation loss improved from 0.3590 to 0.3371. 체크포인트를 저장합니다.\n"
     ]
    },
    {
     "name": "stderr",
     "output_type": "stream",
     "text": [
      "100%|███████████████████████████████████████████████████████████████████████████| 14540/14540 [00:29<00:00, 490.42it/s]\n",
      "100%|███████████████████████████████████████████████████████████████████████████████| 114/114 [00:00<00:00, 378.64it/s]\n"
     ]
    },
    {
     "name": "stdout",
     "output_type": "stream",
     "text": [
      "Epoch 3/10:\n",
      "Train Loss: 0.2517, Train Accuracy: 0.8962\n",
      "Validation Loss: 0.3444, Validation Accuracy: 0.8535\n"
     ]
    },
    {
     "name": "stderr",
     "output_type": "stream",
     "text": [
      "100%|███████████████████████████████████████████████████████████████████████████| 14540/14540 [00:30<00:00, 477.39it/s]\n",
      "100%|███████████████████████████████████████████████████████████████████████████████| 114/114 [00:00<00:00, 375.00it/s]\n"
     ]
    },
    {
     "name": "stdout",
     "output_type": "stream",
     "text": [
      "Epoch 4/10:\n",
      "Train Loss: 0.1997, Train Accuracy: 0.9206\n",
      "Validation Loss: 0.3786, Validation Accuracy: 0.8494\n"
     ]
    },
    {
     "name": "stderr",
     "output_type": "stream",
     "text": [
      "100%|███████████████████████████████████████████████████████████████████████████| 14540/14540 [00:30<00:00, 482.03it/s]\n",
      "100%|███████████████████████████████████████████████████████████████████████████████| 114/114 [00:00<00:00, 391.75it/s]\n"
     ]
    },
    {
     "name": "stdout",
     "output_type": "stream",
     "text": [
      "Epoch 5/10:\n",
      "Train Loss: 0.1597, Train Accuracy: 0.9384\n",
      "Validation Loss: 0.4081, Validation Accuracy: 0.8502\n"
     ]
    },
    {
     "name": "stderr",
     "output_type": "stream",
     "text": [
      "100%|███████████████████████████████████████████████████████████████████████████| 14540/14540 [00:29<00:00, 487.09it/s]\n",
      "100%|███████████████████████████████████████████████████████████████████████████████| 114/114 [00:00<00:00, 365.38it/s]\n"
     ]
    },
    {
     "name": "stdout",
     "output_type": "stream",
     "text": [
      "Epoch 6/10:\n",
      "Train Loss: 0.1290, Train Accuracy: 0.9519\n",
      "Validation Loss: 0.4459, Validation Accuracy: 0.8464\n"
     ]
    },
    {
     "name": "stderr",
     "output_type": "stream",
     "text": [
      "100%|███████████████████████████████████████████████████████████████████████████| 14540/14540 [00:29<00:00, 490.95it/s]\n",
      "100%|███████████████████████████████████████████████████████████████████████████████| 114/114 [00:00<00:00, 355.14it/s]\n"
     ]
    },
    {
     "name": "stdout",
     "output_type": "stream",
     "text": [
      "Epoch 7/10:\n",
      "Train Loss: 0.1092, Train Accuracy: 0.9601\n",
      "Validation Loss: 0.4929, Validation Accuracy: 0.8414\n"
     ]
    },
    {
     "name": "stderr",
     "output_type": "stream",
     "text": [
      "100%|███████████████████████████████████████████████████████████████████████████| 14540/14540 [00:29<00:00, 493.19it/s]\n",
      "100%|███████████████████████████████████████████████████████████████████████████████| 114/114 [00:00<00:00, 372.55it/s]\n"
     ]
    },
    {
     "name": "stdout",
     "output_type": "stream",
     "text": [
      "Epoch 8/10:\n",
      "Train Loss: 0.0932, Train Accuracy: 0.9661\n",
      "Validation Loss: 0.5230, Validation Accuracy: 0.8385\n"
     ]
    },
    {
     "name": "stderr",
     "output_type": "stream",
     "text": [
      "100%|███████████████████████████████████████████████████████████████████████████| 14540/14540 [00:29<00:00, 492.64it/s]\n",
      "100%|███████████████████████████████████████████████████████████████████████████████| 114/114 [00:00<00:00, 378.09it/s]\n"
     ]
    },
    {
     "name": "stdout",
     "output_type": "stream",
     "text": [
      "Epoch 9/10:\n",
      "Train Loss: 0.0830, Train Accuracy: 0.9701\n",
      "Validation Loss: 0.5604, Validation Accuracy: 0.8388\n"
     ]
    },
    {
     "name": "stderr",
     "output_type": "stream",
     "text": [
      "100%|███████████████████████████████████████████████████████████████████████████| 14540/14540 [00:29<00:00, 495.29it/s]\n",
      "100%|███████████████████████████████████████████████████████████████████████████████| 114/114 [00:00<00:00, 344.41it/s]\n"
     ]
    },
    {
     "name": "stdout",
     "output_type": "stream",
     "text": [
      "Epoch 10/10:\n",
      "Train Loss: 0.0735, Train Accuracy: 0.9734\n",
      "Validation Loss: 0.6040, Validation Accuracy: 0.8392\n",
      "batch_size:  16\n"
     ]
    },
    {
     "name": "stderr",
     "output_type": "stream",
     "text": [
      "100%|█████████████████████████████████████████████████████████████████████████████| 7270/7270 [00:15<00:00, 477.34it/s]\n",
      "100%|███████████████████████████████████████████████████████████████████████████████| 114/114 [00:00<00:00, 375.31it/s]\n"
     ]
    },
    {
     "name": "stdout",
     "output_type": "stream",
     "text": [
      "Epoch 1/10:\n",
      "Train Loss: 0.0533, Train Accuracy: 0.9816\n",
      "Validation Loss: 0.6718, Validation Accuracy: 0.8365\n",
      "Validation loss improved from inf to 0.6718. 체크포인트를 저장합니다.\n"
     ]
    },
    {
     "name": "stderr",
     "output_type": "stream",
     "text": [
      "100%|█████████████████████████████████████████████████████████████████████████████| 7270/7270 [00:15<00:00, 478.38it/s]\n",
      "100%|███████████████████████████████████████████████████████████████████████████████| 114/114 [00:00<00:00, 372.55it/s]\n"
     ]
    },
    {
     "name": "stdout",
     "output_type": "stream",
     "text": [
      "Epoch 2/10:\n",
      "Train Loss: 0.0411, Train Accuracy: 0.9857\n",
      "Validation Loss: 0.7349, Validation Accuracy: 0.8357\n"
     ]
    },
    {
     "name": "stderr",
     "output_type": "stream",
     "text": [
      "100%|█████████████████████████████████████████████████████████████████████████████| 7270/7270 [00:15<00:00, 476.13it/s]\n",
      "100%|███████████████████████████████████████████████████████████████████████████████| 114/114 [00:00<00:00, 367.76it/s]\n"
     ]
    },
    {
     "name": "stdout",
     "output_type": "stream",
     "text": [
      "Epoch 3/10:\n",
      "Train Loss: 0.0369, Train Accuracy: 0.9872\n",
      "Validation Loss: 0.7825, Validation Accuracy: 0.8392\n"
     ]
    },
    {
     "name": "stderr",
     "output_type": "stream",
     "text": [
      "100%|█████████████████████████████████████████████████████████████████████████████| 7270/7270 [00:15<00:00, 478.44it/s]\n",
      "100%|███████████████████████████████████████████████████████████████████████████████| 114/114 [00:00<00:00, 399.73it/s]\n"
     ]
    },
    {
     "name": "stdout",
     "output_type": "stream",
     "text": [
      "Epoch 4/10:\n",
      "Train Loss: 0.0357, Train Accuracy: 0.9878\n",
      "Validation Loss: 0.7506, Validation Accuracy: 0.8345\n"
     ]
    },
    {
     "name": "stderr",
     "output_type": "stream",
     "text": [
      "100%|█████████████████████████████████████████████████████████████████████████████| 7270/7270 [00:15<00:00, 476.35it/s]\n",
      "100%|███████████████████████████████████████████████████████████████████████████████| 114/114 [00:00<00:00, 381.27it/s]\n"
     ]
    },
    {
     "name": "stdout",
     "output_type": "stream",
     "text": [
      "Epoch 5/10:\n",
      "Train Loss: 0.0341, Train Accuracy: 0.9881\n",
      "Validation Loss: 0.8020, Validation Accuracy: 0.8364\n"
     ]
    },
    {
     "name": "stderr",
     "output_type": "stream",
     "text": [
      "100%|█████████████████████████████████████████████████████████████████████████████| 7270/7270 [00:15<00:00, 478.05it/s]\n",
      "100%|███████████████████████████████████████████████████████████████████████████████| 114/114 [00:00<00:00, 376.26it/s]\n"
     ]
    },
    {
     "name": "stdout",
     "output_type": "stream",
     "text": [
      "Epoch 6/10:\n",
      "Train Loss: 0.0322, Train Accuracy: 0.9887\n",
      "Validation Loss: 0.8299, Validation Accuracy: 0.8350\n"
     ]
    },
    {
     "name": "stderr",
     "output_type": "stream",
     "text": [
      "100%|█████████████████████████████████████████████████████████████████████████████| 7270/7270 [00:15<00:00, 477.70it/s]\n",
      "100%|███████████████████████████████████████████████████████████████████████████████| 114/114 [00:00<00:00, 361.90it/s]\n"
     ]
    },
    {
     "name": "stdout",
     "output_type": "stream",
     "text": [
      "Epoch 7/10:\n",
      "Train Loss: 0.0308, Train Accuracy: 0.9890\n",
      "Validation Loss: 0.8436, Validation Accuracy: 0.8321\n"
     ]
    },
    {
     "name": "stderr",
     "output_type": "stream",
     "text": [
      "100%|█████████████████████████████████████████████████████████████████████████████| 7270/7270 [00:15<00:00, 478.81it/s]\n",
      "100%|███████████████████████████████████████████████████████████████████████████████| 114/114 [00:00<00:00, 380.01it/s]\n"
     ]
    },
    {
     "name": "stdout",
     "output_type": "stream",
     "text": [
      "Epoch 8/10:\n",
      "Train Loss: 0.0294, Train Accuracy: 0.9895\n",
      "Validation Loss: 0.8517, Validation Accuracy: 0.8327\n"
     ]
    },
    {
     "name": "stderr",
     "output_type": "stream",
     "text": [
      "100%|█████████████████████████████████████████████████████████████████████████████| 7270/7270 [00:15<00:00, 476.79it/s]\n",
      "100%|███████████████████████████████████████████████████████████████████████████████| 114/114 [00:00<00:00, 389.08it/s]\n"
     ]
    },
    {
     "name": "stdout",
     "output_type": "stream",
     "text": [
      "Epoch 9/10:\n",
      "Train Loss: 0.0281, Train Accuracy: 0.9900\n",
      "Validation Loss: 0.8741, Validation Accuracy: 0.8350\n"
     ]
    },
    {
     "name": "stderr",
     "output_type": "stream",
     "text": [
      "100%|█████████████████████████████████████████████████████████████████████████████| 7270/7270 [00:15<00:00, 477.91it/s]\n",
      "100%|███████████████████████████████████████████████████████████████████████████████| 114/114 [00:00<00:00, 382.55it/s]\n"
     ]
    },
    {
     "name": "stdout",
     "output_type": "stream",
     "text": [
      "Epoch 10/10:\n",
      "Train Loss: 0.0268, Train Accuracy: 0.9904\n",
      "Validation Loss: 0.8941, Validation Accuracy: 0.8349\n",
      "batch_size:  32\n"
     ]
    },
    {
     "name": "stderr",
     "output_type": "stream",
     "text": [
      "100%|█████████████████████████████████████████████████████████████████████████████| 3635/3635 [00:08<00:00, 447.94it/s]\n",
      "100%|███████████████████████████████████████████████████████████████████████████████| 114/114 [00:00<00:00, 344.07it/s]\n"
     ]
    },
    {
     "name": "stdout",
     "output_type": "stream",
     "text": [
      "Epoch 1/10:\n",
      "Train Loss: 0.0196, Train Accuracy: 0.9931\n",
      "Validation Loss: 0.9614, Validation Accuracy: 0.8368\n",
      "Validation loss improved from inf to 0.9614. 체크포인트를 저장합니다.\n"
     ]
    },
    {
     "name": "stderr",
     "output_type": "stream",
     "text": [
      "100%|█████████████████████████████████████████████████████████████████████████████| 3635/3635 [00:08<00:00, 447.21it/s]\n",
      "100%|███████████████████████████████████████████████████████████████████████████████| 114/114 [00:00<00:00, 366.57it/s]\n"
     ]
    },
    {
     "name": "stdout",
     "output_type": "stream",
     "text": [
      "Epoch 2/10:\n",
      "Train Loss: 0.0160, Train Accuracy: 0.9943\n",
      "Validation Loss: 0.9876, Validation Accuracy: 0.8375\n"
     ]
    },
    {
     "name": "stderr",
     "output_type": "stream",
     "text": [
      "100%|█████████████████████████████████████████████████████████████████████████████| 3635/3635 [00:08<00:00, 446.14it/s]\n",
      "100%|███████████████████████████████████████████████████████████████████████████████| 114/114 [00:00<00:00, 378.76it/s]\n"
     ]
    },
    {
     "name": "stdout",
     "output_type": "stream",
     "text": [
      "Epoch 3/10:\n",
      "Train Loss: 0.0156, Train Accuracy: 0.9943\n",
      "Validation Loss: 1.0547, Validation Accuracy: 0.8324\n"
     ]
    },
    {
     "name": "stderr",
     "output_type": "stream",
     "text": [
      "100%|█████████████████████████████████████████████████████████████████████████████| 3635/3635 [00:08<00:00, 450.02it/s]\n",
      "100%|███████████████████████████████████████████████████████████████████████████████| 114/114 [00:00<00:00, 379.78it/s]\n"
     ]
    },
    {
     "name": "stdout",
     "output_type": "stream",
     "text": [
      "Epoch 4/10:\n",
      "Train Loss: 0.0150, Train Accuracy: 0.9947\n",
      "Validation Loss: 1.0621, Validation Accuracy: 0.8344\n"
     ]
    },
    {
     "name": "stderr",
     "output_type": "stream",
     "text": [
      "100%|█████████████████████████████████████████████████████████████████████████████| 3635/3635 [00:08<00:00, 450.16it/s]\n",
      "100%|███████████████████████████████████████████████████████████████████████████████| 114/114 [00:00<00:00, 364.22it/s]\n"
     ]
    },
    {
     "name": "stdout",
     "output_type": "stream",
     "text": [
      "Epoch 5/10:\n",
      "Train Loss: 0.0143, Train Accuracy: 0.9948\n",
      "Validation Loss: 1.0561, Validation Accuracy: 0.8358\n"
     ]
    },
    {
     "name": "stderr",
     "output_type": "stream",
     "text": [
      "100%|█████████████████████████████████████████████████████████████████████████████| 3635/3635 [00:08<00:00, 446.17it/s]\n",
      "100%|███████████████████████████████████████████████████████████████████████████████| 114/114 [00:00<00:00, 380.15it/s]\n"
     ]
    },
    {
     "name": "stdout",
     "output_type": "stream",
     "text": [
      "Epoch 6/10:\n",
      "Train Loss: 0.0141, Train Accuracy: 0.9947\n",
      "Validation Loss: 1.0593, Validation Accuracy: 0.8322\n"
     ]
    },
    {
     "name": "stderr",
     "output_type": "stream",
     "text": [
      "100%|█████████████████████████████████████████████████████████████████████████████| 3635/3635 [00:08<00:00, 449.48it/s]\n",
      "100%|███████████████████████████████████████████████████████████████████████████████| 114/114 [00:00<00:00, 367.74it/s]\n"
     ]
    },
    {
     "name": "stdout",
     "output_type": "stream",
     "text": [
      "Epoch 7/10:\n",
      "Train Loss: 0.0163, Train Accuracy: 0.9937\n",
      "Validation Loss: 1.0704, Validation Accuracy: 0.8327\n"
     ]
    },
    {
     "name": "stderr",
     "output_type": "stream",
     "text": [
      "100%|█████████████████████████████████████████████████████████████████████████████| 3635/3635 [00:08<00:00, 448.87it/s]\n",
      "100%|███████████████████████████████████████████████████████████████████████████████| 114/114 [00:00<00:00, 384.49it/s]\n"
     ]
    },
    {
     "name": "stdout",
     "output_type": "stream",
     "text": [
      "Epoch 8/10:\n",
      "Train Loss: 0.0138, Train Accuracy: 0.9948\n",
      "Validation Loss: 1.1076, Validation Accuracy: 0.8342\n"
     ]
    },
    {
     "name": "stderr",
     "output_type": "stream",
     "text": [
      "100%|█████████████████████████████████████████████████████████████████████████████| 3635/3635 [00:08<00:00, 450.43it/s]\n",
      "100%|███████████████████████████████████████████████████████████████████████████████| 114/114 [00:00<00:00, 352.47it/s]\n"
     ]
    },
    {
     "name": "stdout",
     "output_type": "stream",
     "text": [
      "Epoch 9/10:\n",
      "Train Loss: 0.0146, Train Accuracy: 0.9945\n",
      "Validation Loss: 1.1000, Validation Accuracy: 0.8360\n"
     ]
    },
    {
     "name": "stderr",
     "output_type": "stream",
     "text": [
      "100%|█████████████████████████████████████████████████████████████████████████████| 3635/3635 [00:08<00:00, 452.52it/s]\n",
      "100%|███████████████████████████████████████████████████████████████████████████████| 114/114 [00:00<00:00, 380.02it/s]\n"
     ]
    },
    {
     "name": "stdout",
     "output_type": "stream",
     "text": [
      "Epoch 10/10:\n",
      "Train Loss: 0.0135, Train Accuracy: 0.9949\n",
      "Validation Loss: 1.0913, Validation Accuracy: 0.8326\n",
      "batch_size:  64\n"
     ]
    },
    {
     "name": "stderr",
     "output_type": "stream",
     "text": [
      "100%|█████████████████████████████████████████████████████████████████████████████| 1818/1818 [00:04<00:00, 400.54it/s]\n",
      "100%|███████████████████████████████████████████████████████████████████████████████| 114/114 [00:00<00:00, 352.94it/s]\n"
     ]
    },
    {
     "name": "stdout",
     "output_type": "stream",
     "text": [
      "Epoch 1/10:\n",
      "Train Loss: 0.0096, Train Accuracy: 0.9961\n",
      "Validation Loss: 1.1916, Validation Accuracy: 0.8350\n",
      "Validation loss improved from inf to 1.1916. 체크포인트를 저장합니다.\n"
     ]
    },
    {
     "name": "stderr",
     "output_type": "stream",
     "text": [
      "100%|█████████████████████████████████████████████████████████████████████████████| 1818/1818 [00:04<00:00, 398.18it/s]\n",
      "100%|███████████████████████████████████████████████████████████████████████████████| 114/114 [00:00<00:00, 364.24it/s]\n"
     ]
    },
    {
     "name": "stdout",
     "output_type": "stream",
     "text": [
      "Epoch 2/10:\n",
      "Train Loss: 0.0073, Train Accuracy: 0.9968\n",
      "Validation Loss: 1.2484, Validation Accuracy: 0.8345\n"
     ]
    },
    {
     "name": "stderr",
     "output_type": "stream",
     "text": [
      "100%|█████████████████████████████████████████████████████████████████████████████| 1818/1818 [00:04<00:00, 399.31it/s]\n",
      "100%|███████████████████████████████████████████████████████████████████████████████| 114/114 [00:00<00:00, 360.76it/s]\n"
     ]
    },
    {
     "name": "stdout",
     "output_type": "stream",
     "text": [
      "Epoch 3/10:\n",
      "Train Loss: 0.0078, Train Accuracy: 0.9966\n",
      "Validation Loss: 1.2607, Validation Accuracy: 0.8332\n"
     ]
    },
    {
     "name": "stderr",
     "output_type": "stream",
     "text": [
      "100%|█████████████████████████████████████████████████████████████████████████████| 1818/1818 [00:04<00:00, 402.89it/s]\n",
      "100%|███████████████████████████████████████████████████████████████████████████████| 114/114 [00:00<00:00, 372.60it/s]\n"
     ]
    },
    {
     "name": "stdout",
     "output_type": "stream",
     "text": [
      "Epoch 4/10:\n",
      "Train Loss: 0.0085, Train Accuracy: 0.9966\n",
      "Validation Loss: 1.2440, Validation Accuracy: 0.8344\n"
     ]
    },
    {
     "name": "stderr",
     "output_type": "stream",
     "text": [
      "100%|█████████████████████████████████████████████████████████████████████████████| 1818/1818 [00:04<00:00, 400.32it/s]\n",
      "100%|███████████████████████████████████████████████████████████████████████████████| 114/114 [00:00<00:00, 381.56it/s]\n"
     ]
    },
    {
     "name": "stdout",
     "output_type": "stream",
     "text": [
      "Epoch 5/10:\n",
      "Train Loss: 0.0084, Train Accuracy: 0.9966\n",
      "Validation Loss: 1.2564, Validation Accuracy: 0.8315\n"
     ]
    },
    {
     "name": "stderr",
     "output_type": "stream",
     "text": [
      "100%|█████████████████████████████████████████████████████████████████████████████| 1818/1818 [00:04<00:00, 401.16it/s]\n",
      "100%|███████████████████████████████████████████████████████████████████████████████| 114/114 [00:00<00:00, 354.06it/s]\n"
     ]
    },
    {
     "name": "stdout",
     "output_type": "stream",
     "text": [
      "Epoch 6/10:\n",
      "Train Loss: 0.0081, Train Accuracy: 0.9964\n",
      "Validation Loss: 1.3023, Validation Accuracy: 0.8310\n"
     ]
    },
    {
     "name": "stderr",
     "output_type": "stream",
     "text": [
      "100%|█████████████████████████████████████████████████████████████████████████████| 1818/1818 [00:04<00:00, 400.67it/s]\n",
      "100%|███████████████████████████████████████████████████████████████████████████████| 114/114 [00:00<00:00, 357.37it/s]\n"
     ]
    },
    {
     "name": "stdout",
     "output_type": "stream",
     "text": [
      "Epoch 7/10:\n",
      "Train Loss: 0.0088, Train Accuracy: 0.9963\n",
      "Validation Loss: 1.2712, Validation Accuracy: 0.8325\n"
     ]
    },
    {
     "name": "stderr",
     "output_type": "stream",
     "text": [
      "100%|█████████████████████████████████████████████████████████████████████████████| 1818/1818 [00:04<00:00, 400.19it/s]\n",
      "100%|███████████████████████████████████████████████████████████████████████████████| 114/114 [00:00<00:00, 155.96it/s]\n"
     ]
    },
    {
     "name": "stdout",
     "output_type": "stream",
     "text": [
      "Epoch 8/10:\n",
      "Train Loss: 0.0076, Train Accuracy: 0.9967\n",
      "Validation Loss: 1.3123, Validation Accuracy: 0.8316\n"
     ]
    },
    {
     "name": "stderr",
     "output_type": "stream",
     "text": [
      "100%|█████████████████████████████████████████████████████████████████████████████| 1818/1818 [00:04<00:00, 406.18it/s]\n",
      "100%|███████████████████████████████████████████████████████████████████████████████| 114/114 [00:00<00:00, 381.35it/s]\n"
     ]
    },
    {
     "name": "stdout",
     "output_type": "stream",
     "text": [
      "Epoch 9/10:\n",
      "Train Loss: 0.0084, Train Accuracy: 0.9965\n",
      "Validation Loss: 1.3113, Validation Accuracy: 0.8332\n"
     ]
    },
    {
     "name": "stderr",
     "output_type": "stream",
     "text": [
      "100%|█████████████████████████████████████████████████████████████████████████████| 1818/1818 [00:04<00:00, 398.84it/s]\n",
      "100%|███████████████████████████████████████████████████████████████████████████████| 114/114 [00:00<00:00, 369.98it/s]\n"
     ]
    },
    {
     "name": "stdout",
     "output_type": "stream",
     "text": [
      "Epoch 10/10:\n",
      "Train Loss: 0.0088, Train Accuracy: 0.9963\n",
      "Validation Loss: 1.2665, Validation Accuracy: 0.8306\n",
      "batch_size:  128\n"
     ]
    },
    {
     "name": "stderr",
     "output_type": "stream",
     "text": [
      "100%|███████████████████████████████████████████████████████████████████████████████| 909/909 [00:02<00:00, 319.99it/s]\n",
      "100%|███████████████████████████████████████████████████████████████████████████████| 114/114 [00:00<00:00, 380.02it/s]\n"
     ]
    },
    {
     "name": "stdout",
     "output_type": "stream",
     "text": [
      "Epoch 1/10:\n",
      "Train Loss: 0.0067, Train Accuracy: 0.9971\n",
      "Validation Loss: 1.3454, Validation Accuracy: 0.8323\n",
      "Validation loss improved from inf to 1.3454. 체크포인트를 저장합니다.\n"
     ]
    },
    {
     "name": "stderr",
     "output_type": "stream",
     "text": [
      "100%|███████████████████████████████████████████████████████████████████████████████| 909/909 [00:02<00:00, 312.37it/s]\n",
      "100%|███████████████████████████████████████████████████████████████████████████████| 114/114 [00:00<00:00, 383.84it/s]\n"
     ]
    },
    {
     "name": "stdout",
     "output_type": "stream",
     "text": [
      "Epoch 2/10:\n",
      "Train Loss: 0.0053, Train Accuracy: 0.9974\n",
      "Validation Loss: 1.4025, Validation Accuracy: 0.8317\n"
     ]
    },
    {
     "name": "stderr",
     "output_type": "stream",
     "text": [
      "100%|███████████████████████████████████████████████████████████████████████████████| 909/909 [00:02<00:00, 317.13it/s]\n",
      "100%|███████████████████████████████████████████████████████████████████████████████| 114/114 [00:00<00:00, 409.18it/s]\n"
     ]
    },
    {
     "name": "stdout",
     "output_type": "stream",
     "text": [
      "Epoch 3/10:\n",
      "Train Loss: 0.0052, Train Accuracy: 0.9973\n",
      "Validation Loss: 1.3969, Validation Accuracy: 0.8345\n"
     ]
    },
    {
     "name": "stderr",
     "output_type": "stream",
     "text": [
      "100%|███████████████████████████████████████████████████████████████████████████████| 909/909 [00:02<00:00, 321.07it/s]\n",
      "100%|███████████████████████████████████████████████████████████████████████████████| 114/114 [00:00<00:00, 389.07it/s]\n"
     ]
    },
    {
     "name": "stdout",
     "output_type": "stream",
     "text": [
      "Epoch 4/10:\n",
      "Train Loss: 0.0052, Train Accuracy: 0.9973\n",
      "Validation Loss: 1.4108, Validation Accuracy: 0.8331\n"
     ]
    },
    {
     "name": "stderr",
     "output_type": "stream",
     "text": [
      "100%|███████████████████████████████████████████████████████████████████████████████| 909/909 [00:02<00:00, 318.41it/s]\n",
      "100%|███████████████████████████████████████████████████████████████████████████████| 114/114 [00:00<00:00, 383.84it/s]\n"
     ]
    },
    {
     "name": "stdout",
     "output_type": "stream",
     "text": [
      "Epoch 5/10:\n",
      "Train Loss: 0.0052, Train Accuracy: 0.9973\n",
      "Validation Loss: 1.4215, Validation Accuracy: 0.8341\n"
     ]
    },
    {
     "name": "stderr",
     "output_type": "stream",
     "text": [
      "100%|███████████████████████████████████████████████████████████████████████████████| 909/909 [00:02<00:00, 319.18it/s]\n",
      "100%|███████████████████████████████████████████████████████████████████████████████| 114/114 [00:00<00:00, 380.75it/s]\n"
     ]
    },
    {
     "name": "stdout",
     "output_type": "stream",
     "text": [
      "Epoch 6/10:\n",
      "Train Loss: 0.0054, Train Accuracy: 0.9973\n",
      "Validation Loss: 1.3566, Validation Accuracy: 0.8327\n"
     ]
    },
    {
     "name": "stderr",
     "output_type": "stream",
     "text": [
      "100%|███████████████████████████████████████████████████████████████████████████████| 909/909 [00:02<00:00, 316.67it/s]\n",
      "100%|███████████████████████████████████████████████████████████████████████████████| 114/114 [00:00<00:00, 365.53it/s]\n"
     ]
    },
    {
     "name": "stdout",
     "output_type": "stream",
     "text": [
      "Epoch 7/10:\n",
      "Train Loss: 0.0054, Train Accuracy: 0.9973\n",
      "Validation Loss: 1.3582, Validation Accuracy: 0.8324\n"
     ]
    },
    {
     "name": "stderr",
     "output_type": "stream",
     "text": [
      "100%|███████████████████████████████████████████████████████████████████████████████| 909/909 [00:02<00:00, 319.01it/s]\n",
      "100%|███████████████████████████████████████████████████████████████████████████████| 114/114 [00:00<00:00, 375.00it/s]\n"
     ]
    },
    {
     "name": "stdout",
     "output_type": "stream",
     "text": [
      "Epoch 8/10:\n",
      "Train Loss: 0.0092, Train Accuracy: 0.9964\n",
      "Validation Loss: 1.3004, Validation Accuracy: 0.8320\n",
      "Validation loss improved from 1.3454 to 1.3004. 체크포인트를 저장합니다.\n"
     ]
    },
    {
     "name": "stderr",
     "output_type": "stream",
     "text": [
      "100%|███████████████████████████████████████████████████████████████████████████████| 909/909 [00:02<00:00, 316.06it/s]\n",
      "100%|███████████████████████████████████████████████████████████████████████████████| 114/114 [00:00<00:00, 373.99it/s]\n"
     ]
    },
    {
     "name": "stdout",
     "output_type": "stream",
     "text": [
      "Epoch 9/10:\n",
      "Train Loss: 0.0089, Train Accuracy: 0.9965\n",
      "Validation Loss: 1.3145, Validation Accuracy: 0.8310\n"
     ]
    },
    {
     "name": "stderr",
     "output_type": "stream",
     "text": [
      "100%|███████████████████████████████████████████████████████████████████████████████| 909/909 [00:02<00:00, 318.69it/s]\n",
      "100%|███████████████████████████████████████████████████████████████████████████████| 114/114 [00:00<00:00, 378.67it/s]\n"
     ]
    },
    {
     "name": "stdout",
     "output_type": "stream",
     "text": [
      "Epoch 10/10:\n",
      "Train Loss: 0.0059, Train Accuracy: 0.9973\n",
      "Validation Loss: 1.3929, Validation Accuracy: 0.8322\n"
     ]
    },
    {
     "data": {
      "image/png": "[encoded data removed]",
      "text/plain": [
       "<Figure size 1200x1200 with 4 Axes>"
      ]
     },
     "metadata": {},
     "output_type": "display_data"
    }
   ],
   "source": [
    "fig = plt.figure(figsize=(12,12))\n",
    "ax_train_accuracy = fig.add_subplot(2, 2, 1)\n",
    "ax_train_loss = fig.add_subplot(2, 2, 3)\n",
    "ax_valid_accuracy = fig.add_subplot(2, 2, 2)\n",
    "ax_valid_loss = fig.add_subplot(2, 2, 4)\n",
    "\n",
    "for train_dataloader in train_loaderset:\n",
    "    bs = train_dataloader.batch_size\n",
    "    print(\"batch_size: \", bs)\n",
    "    num_epochs = 10\n",
    "\n",
    "    # Training loop\n",
    "    best_val_loss = float('inf')\n",
    "    tqdm.clear\n",
    "\n",
    "    valid_loss_list = []\n",
    "    train_loss_list = []\n",
    "    valid_accuracy_list = []\n",
    "    train_accuracy_list = []\n",
    "    \n",
    "    # Training loop\n",
    "    for epoch in range(num_epochs):\n",
    "        # Training\n",
    "        train_loss = 0\n",
    "        train_correct = 0\n",
    "        train_total = 0\n",
    "        model.train()\n",
    "\n",
    "        progress = tqdm(train_dataloader)\n",
    "\n",
    "        for i, (batch_X, batch_y) in enumerate(progress, start=1):\n",
    "            # Forward pass\n",
    "            batch_X, batch_y = batch_X.to(device), batch_y.to(device)\n",
    "\n",
    "            # batch_X.shape == (batch_size, max_len)\n",
    "            logits = model(batch_X)\n",
    "\n",
    "            # Compute loss\n",
    "            loss = criterion(logits, batch_y)\n",
    "\n",
    "            # Backward pass and optimization\n",
    "            optimizer.zero_grad()\n",
    "            loss.backward()\n",
    "            optimizer.step()\n",
    "\n",
    "            # Calculate training accuracy and loss\n",
    "            train_loss += loss.item()\n",
    "            train_correct += calculate_accuracy(logits, batch_y) * batch_y.size(0)\n",
    "            train_total += batch_y.size(0)\n",
    "\n",
    "        train_accuracy = train_correct / train_total\n",
    "        train_loss /= len(train_dataloader)\n",
    "\n",
    "        train_accuracy_list.append(train_accuracy)\n",
    "        train_loss_list.append(train_loss)\n",
    "        \n",
    "        # Validation\n",
    "        val_loss, val_accuracy = evaluate(model, valid_dataloader, criterion, device)\n",
    "\n",
    "        valid_loss_list.append(val_loss)\n",
    "        valid_accuracy_list.append(val_accuracy)\n",
    "\n",
    "        print(f'Epoch {epoch+1}/{num_epochs}:')\n",
    "        print(f'Train Loss: {train_loss:.4f}, Train Accuracy: {train_accuracy:.4f}')\n",
    "        print(f'Validation Loss: {val_loss:.4f}, Validation Accuracy: {val_accuracy:.4f}')\n",
    "\n",
    "        # 검증 손실이 최소일 때 체크포인트 저장\n",
    "        if val_loss < best_val_loss:\n",
    "            print(f'Validation loss improved from {best_val_loss:.4f} to {val_loss:.4f}. 체크포인트를 저장합니다.')\n",
    "            best_val_loss = val_loss\n",
    "            torch.save(model.state_dict(),f'best_model_checkpoint_{bs}_hdn_{hidden_dim}.pth')\n",
    "    \n",
    "    ax_train_accuracy.plot(np.arange(1, num_epochs+1), train_accuracy_list, label=f'batch size[{bs}]')\n",
    "    ax_valid_accuracy.plot(valid_accuracy_list, label=f'batch size[{bs}]')\n",
    "    ax_train_loss.plot(train_loss_list, label=f'batch size[{bs}]')    \n",
    "    ax_valid_loss.plot(valid_loss_list, label=f'batch size[{bs}]')\n",
    "    \n",
    "ax_valid_accuracy.set_title('Valid Accuracy')\n",
    "ax_valid_loss.set_title('Valid Loss')\n",
    "ax_train_loss.set_title('Train Loss')\n",
    "ax_train_accuracy.set_title('Train Accuracy')\n",
    "\n",
    "ax_train_accuracy.legend()\n",
    "ax_valid_accuracy.legend()\n",
    "ax_train_loss.legend()\n",
    "ax_valid_loss.legend()\n",
    "\n",
    "fig.savefig(f'fig_batchsize_{learning_rate}_{num_epochs}.png')"
   ]
  },
  {
   "cell_type": "code",
   "execution_count": 167,
   "id": "8022257c",
   "metadata": {},
   "outputs": [
    {
     "data": {
      "text/plain": [
       "array([0])"
      ]
     },
     "execution_count": 167,
     "metadata": {},
     "output_type": "execute_result"
    }
   ],
   "source": [
    "np.arange(0, num_epochs)"
   ]
  },
  {
   "cell_type": "code",
   "execution_count": 70,
   "id": "4bcba69a",
   "metadata": {},
   "outputs": [
    {
     "data": {
      "text/plain": [
       "<bound method Text.set_text of Text(0.5, 1.0, '')>"
      ]
     },
     "execution_count": 70,
     "metadata": {},
     "output_type": "execute_result"
    }
   ],
   "source": [
    "ax.title.set_text"
   ]
  },
  {
   "cell_type": "code",
   "execution_count": 69,
   "id": "3a6efef4",
   "metadata": {},
   "outputs": [],
   "source": [
    "index_to_tag = {0 : '부정', 1 : '긍정'}\n",
    "\n",
    "def predict(text, model, word_to_index, index_to_tag):\n",
    "    # Set the model to evaluation mode\n",
    "    model.eval()\n",
    "\n",
    "    # Tokenize the input text\n",
    "    tokens = mecab.morphs(text) # 토큰화\n",
    "    tokens = [word for word in tokens if not word in stopwords] # 불용어 제거\n",
    "    token_indices = [word_to_index.get(token, 1) for token in tokens]\n",
    "\n",
    "    # Convert tokens to tensor\n",
    "    input_tensor = torch.tensor([token_indices], dtype=torch.long).to(device)  # (1, seq_length)\n",
    "\n",
    "    # Pass the input tensor through the model\n",
    "    with torch.no_grad():\n",
    "        logits = model(input_tensor)  # (1, output_dim)\n",
    "\n",
    "    # Get the predicted class index\n",
    "    predicted_index = torch.argmax(logits, dim=1)\n",
    "\n",
    "    # Convert the predicted index to its corresponding tag\n",
    "    predicted_tag = index_to_tag[predicted_index.item()]\n",
    "\n",
    "    return predicted_tag\n"
   ]
  },
  {
   "cell_type": "code",
   "execution_count": 45,
   "id": "260bb159",
   "metadata": {},
   "outputs": [
    {
     "name": "stderr",
     "output_type": "stream",
     "text": [
      "100%|████████████████████████████████████| 29079/29079 [02:16<00:00, 213.08it/s]\n"
     ]
    },
    {
     "name": "stdout",
     "output_type": "stream",
     "text": [
      "Best model validation loss: 0.4178\n",
      "Best model validation accuracy: 0.8461\n"
     ]
    },
    {
     "name": "stderr",
     "output_type": "stream",
     "text": [
      "100%|████████████████████████████████████| 48852/48852 [03:44<00:00, 218.06it/s]"
     ]
    },
    {
     "name": "stdout",
     "output_type": "stream",
     "text": [
      "Best model test loss: 0.4297\n",
      "Best model test accuracy: 0.8464\n"
     ]
    },
    {
     "name": "stderr",
     "output_type": "stream",
     "text": [
      "\n"
     ]
    }
   ],
   "source": [
    "# 모델 로드\n",
    "model.load_state_dict(torch.load('best_model_checkpoint.pth'))\n",
    "\n",
    "# 모델을 device에 올립니다.\n",
    "model.to(device)\n",
    "# 검증 데이터에 대한 정확도와 손실 계산\n",
    "val_loss, val_accuracy = evaluate(model, valid_dataloader, criterion, device)\n",
    "\n",
    "print(f'Best model validation loss: {val_loss:.4f}')\n",
    "print(f'Best model validation accuracy: {val_accuracy:.4f}')\n",
    "# 테스트 데이터에 대한 정확도와 손실 계산\n",
    "test_loss, test_accuracy = evaluate(model, test_dataloader, criterion, device)\n",
    "\n",
    "print(f'Best model test loss: {test_loss:.4f}')\n",
    "print(f'Best model test accuracy: {test_accuracy:.4f}')\n"
   ]
  },
  {
   "cell_type": "code",
   "execution_count": 47,
   "id": "17011f60",
   "metadata": {},
   "outputs": [
    {
     "name": "stdout",
     "output_type": "stream",
     "text": [
      "긍정\n",
      "부정\n",
      "부정\n",
      "긍정\n"
     ]
    }
   ],
   "source": [
    "test_input = \"이 영화 개꿀잼 ㅋㅋㅋ\"\n",
    "print(predict(test_input, model, word_to_index, index_to_tag))\n",
    "test_input = \"이딴게 영화냐 ㅉㅉ\"\n",
    "print(predict(test_input, model, word_to_index, index_to_tag))\n",
    "test_input = \"감독 뭐하는 놈이냐?\"\n",
    "\n",
    "print(predict(test_input, model, word_to_index, index_to_tag))\n",
    "test_input = \"와 개쩐다 정말 세계관 최강자들의 영화다\"\n",
    "print(predict(test_input, model, word_to_index, index_to_tag))"
   ]
  },
  {
   "cell_type": "code",
   "execution_count": null,
   "id": "317b007a",
   "metadata": {},
   "outputs": [],
   "source": []
  }
 ],
 "metadata": {
  "kernelspec": {
   "display_name": "Python 3 (ipykernel)",
   "language": "python",
   "name": "python3"
  },
  "language_info": {
   "codemirror_mode": {
    "name": "ipython",
    "version": 3
   },
   "file_extension": ".py",
   "mimetype": "text/x-python",
   "name": "python",
   "nbconvert_exporter": "python",
   "pygments_lexer": "ipython3",
   "version": "3.10.13"
  }
 },
 "nbformat": 4,
 "nbformat_minor": 5
}
